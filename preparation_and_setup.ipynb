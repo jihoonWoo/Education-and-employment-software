{
 "cells": [
  {
   "cell_type": "markdown",
   "metadata": {},
   "source": [
    "# Preparation and setup\n",
    "\n",
    "Read transformed data by **ABS-education-and-employment-1410.0(doi)** to extract insight"
   ]
  },
  {
   "cell_type": "code",
   "execution_count": 1,
   "metadata": {},
   "outputs": [],
   "source": [
    "# import liraries\n",
    "\n",
    "import pandas as pd\n",
    "import matplotlib.pyplot as plt\n",
    "import numpy as np"
   ]
  },
  {
   "cell_type": "code",
   "execution_count": 2,
   "metadata": {},
   "outputs": [],
   "source": [
    "input_file = 'transformed_data.csv'"
   ]
  },
  {
   "cell_type": "code",
   "execution_count": 3,
   "metadata": {},
   "outputs": [
    {
     "data": {
      "text/html": [
       "<div>\n",
       "<style scoped>\n",
       "    .dataframe tbody tr th:only-of-type {\n",
       "        vertical-align: middle;\n",
       "    }\n",
       "\n",
       "    .dataframe tbody tr th {\n",
       "        vertical-align: top;\n",
       "    }\n",
       "\n",
       "    .dataframe thead th {\n",
       "        text-align: right;\n",
       "    }\n",
       "</style>\n",
       "<table border=\"1\" class=\"dataframe\">\n",
       "  <thead>\n",
       "    <tr style=\"text-align: right;\">\n",
       "      <th></th>\n",
       "      <th>Label</th>\n",
       "      <th>Completed Year 10 or equivalent (%)</th>\n",
       "      <th>Completed Year 11 or equivalent (%)</th>\n",
       "      <th>Completed Year 12 or equivalent (%)</th>\n",
       "      <th>Completed Year 8 or below (%)</th>\n",
       "      <th>Completed Year 9 or equivalent (%)</th>\n",
       "      <th>Did not go to school (%)</th>\n",
       "      <th>Highest Year of School Completed - Not stated (%)</th>\n",
       "      <th>Year</th>\n",
       "    </tr>\n",
       "  </thead>\n",
       "  <tbody>\n",
       "    <tr>\n",
       "      <th>0</th>\n",
       "      <td>Australia</td>\n",
       "      <td>19.2</td>\n",
       "      <td>9.1</td>\n",
       "      <td>51.9</td>\n",
       "      <td>4.8</td>\n",
       "      <td>5.6</td>\n",
       "      <td>0.9</td>\n",
       "      <td>8.6</td>\n",
       "      <td>2016</td>\n",
       "    </tr>\n",
       "    <tr>\n",
       "      <th>1</th>\n",
       "      <td>New South Wales</td>\n",
       "      <td>21.6</td>\n",
       "      <td>5.8</td>\n",
       "      <td>52.1</td>\n",
       "      <td>4.6</td>\n",
       "      <td>6.3</td>\n",
       "      <td>1.0</td>\n",
       "      <td>8.5</td>\n",
       "      <td>2016</td>\n",
       "    </tr>\n",
       "    <tr>\n",
       "      <th>2</th>\n",
       "      <td>Victoria</td>\n",
       "      <td>13.2</td>\n",
       "      <td>11.6</td>\n",
       "      <td>54.4</td>\n",
       "      <td>5.6</td>\n",
       "      <td>5.8</td>\n",
       "      <td>1.1</td>\n",
       "      <td>8.2</td>\n",
       "      <td>2016</td>\n",
       "    </tr>\n",
       "    <tr>\n",
       "      <th>3</th>\n",
       "      <td>Queensland</td>\n",
       "      <td>22.7</td>\n",
       "      <td>7.8</td>\n",
       "      <td>50.5</td>\n",
       "      <td>4.8</td>\n",
       "      <td>4.8</td>\n",
       "      <td>0.5</td>\n",
       "      <td>9.0</td>\n",
       "      <td>2016</td>\n",
       "    </tr>\n",
       "    <tr>\n",
       "      <th>4</th>\n",
       "      <td>South Australia</td>\n",
       "      <td>15.8</td>\n",
       "      <td>17.4</td>\n",
       "      <td>47.4</td>\n",
       "      <td>5.4</td>\n",
       "      <td>5.4</td>\n",
       "      <td>0.9</td>\n",
       "      <td>7.6</td>\n",
       "      <td>2016</td>\n",
       "    </tr>\n",
       "    <tr>\n",
       "      <th>5</th>\n",
       "      <td>Western Australia</td>\n",
       "      <td>20.6</td>\n",
       "      <td>10.0</td>\n",
       "      <td>51.7</td>\n",
       "      <td>3.2</td>\n",
       "      <td>4.5</td>\n",
       "      <td>0.6</td>\n",
       "      <td>9.4</td>\n",
       "      <td>2016</td>\n",
       "    </tr>\n",
       "    <tr>\n",
       "      <th>6</th>\n",
       "      <td>Tasmania</td>\n",
       "      <td>30.5</td>\n",
       "      <td>8.7</td>\n",
       "      <td>38.3</td>\n",
       "      <td>4.9</td>\n",
       "      <td>8.2</td>\n",
       "      <td>0.4</td>\n",
       "      <td>8.9</td>\n",
       "      <td>2016</td>\n",
       "    </tr>\n",
       "    <tr>\n",
       "      <th>7</th>\n",
       "      <td>Northern Territory</td>\n",
       "      <td>17.3</td>\n",
       "      <td>11.5</td>\n",
       "      <td>42.9</td>\n",
       "      <td>5.9</td>\n",
       "      <td>5.4</td>\n",
       "      <td>1.2</td>\n",
       "      <td>15.8</td>\n",
       "      <td>2016</td>\n",
       "    </tr>\n",
       "    <tr>\n",
       "      <th>8</th>\n",
       "      <td>Australian Capital Territory</td>\n",
       "      <td>12.9</td>\n",
       "      <td>4.8</td>\n",
       "      <td>69.4</td>\n",
       "      <td>2.4</td>\n",
       "      <td>3.4</td>\n",
       "      <td>0.4</td>\n",
       "      <td>6.7</td>\n",
       "      <td>2016</td>\n",
       "    </tr>\n",
       "  </tbody>\n",
       "</table>\n",
       "</div>"
      ],
      "text/plain": [
       "                          Label  Completed Year 10 or equivalent (%)  \\\n",
       "0                     Australia                                 19.2   \n",
       "1               New South Wales                                 21.6   \n",
       "2                      Victoria                                 13.2   \n",
       "3                    Queensland                                 22.7   \n",
       "4               South Australia                                 15.8   \n",
       "5             Western Australia                                 20.6   \n",
       "6                      Tasmania                                 30.5   \n",
       "7            Northern Territory                                 17.3   \n",
       "8  Australian Capital Territory                                 12.9   \n",
       "\n",
       "   Completed Year 11 or equivalent (%)  Completed Year 12 or equivalent (%)  \\\n",
       "0                                  9.1                                 51.9   \n",
       "1                                  5.8                                 52.1   \n",
       "2                                 11.6                                 54.4   \n",
       "3                                  7.8                                 50.5   \n",
       "4                                 17.4                                 47.4   \n",
       "5                                 10.0                                 51.7   \n",
       "6                                  8.7                                 38.3   \n",
       "7                                 11.5                                 42.9   \n",
       "8                                  4.8                                 69.4   \n",
       "\n",
       "   Completed Year 8 or below (%)  Completed Year 9 or equivalent (%)  \\\n",
       "0                            4.8                                 5.6   \n",
       "1                            4.6                                 6.3   \n",
       "2                            5.6                                 5.8   \n",
       "3                            4.8                                 4.8   \n",
       "4                            5.4                                 5.4   \n",
       "5                            3.2                                 4.5   \n",
       "6                            4.9                                 8.2   \n",
       "7                            5.9                                 5.4   \n",
       "8                            2.4                                 3.4   \n",
       "\n",
       "   Did not go to school (%)  \\\n",
       "0                       0.9   \n",
       "1                       1.0   \n",
       "2                       1.1   \n",
       "3                       0.5   \n",
       "4                       0.9   \n",
       "5                       0.6   \n",
       "6                       0.4   \n",
       "7                       1.2   \n",
       "8                       0.4   \n",
       "\n",
       "   Highest Year of School Completed - Not stated (%)  Year  \n",
       "0                                                8.6  2016  \n",
       "1                                                8.5  2016  \n",
       "2                                                8.2  2016  \n",
       "3                                                9.0  2016  \n",
       "4                                                7.6  2016  \n",
       "5                                                9.4  2016  \n",
       "6                                                8.9  2016  \n",
       "7                                               15.8  2016  \n",
       "8                                                6.7  2016  "
      ]
     },
     "execution_count": 3,
     "metadata": {},
     "output_type": "execute_result"
    }
   ],
   "source": [
    "df = pd.read_csv(input_file, sep=',', encoding='utf-8')\n",
    "df"
   ]
  },
  {
   "cell_type": "code",
   "execution_count": 4,
   "metadata": {},
   "outputs": [],
   "source": [
    "def draw_plot(df):\n",
    "    plt.style.use('ggplot')\n",
    "\n",
    "    cols = list(df.columns)\n",
    "    cols.remove('Label')\n",
    "    cols.remove('Year')\n",
    "\n",
    "    row = list(df[cols].iloc[0])\n",
    "\n",
    "    x_pos = [i for i, _ in enumerate(row)]\n",
    "\n",
    "    plt.barh(x_pos, row, color='green')\n",
    "    plt.xlabel(\"Percentage (%)\")\n",
    "    plt.ylabel(\"Highest Year of School Completed\")\n",
    "\n",
    "    plt.yticks(x_pos, cols)\n",
    "\n",
    "    plt.show()"
   ]
  },
  {
   "cell_type": "code",
   "execution_count": 5,
   "metadata": {},
   "outputs": [
    {
     "data": {
      "image/png": "[encoded data removed]",
      "text/plain": [
       "<Figure size 432x288 with 1 Axes>"
      ]
     },
     "metadata": {},
     "output_type": "display_data"
    }
   ],
   "source": [
    "draw_plot(df)"
   ]
  },
  {
   "cell_type": "markdown",
   "metadata": {},
   "source": [
    "# Insight\n",
    "**Around 52 percent of Australians had completed Year 12 or equivalent in 2016 (ABS)**"
   ]
  },
  {
   "cell_type": "code",
   "execution_count": 15,
   "metadata": {},
   "outputs": [
    {
     "name": "stdout",
     "output_type": "stream",
     "text": [
      "51.9 percent of Australians had completed Year 12 or equivalent in 2016 (ABS)\n"
     ]
    }
   ],
   "source": [
    "value = float(df['Completed Year 12 or equivalent (%)'].loc[df['Label'] == 'Australia'])\n",
    "print('{} percent of Australians had completed Year 12 or equivalent in 2016 (ABS)'.format(value))"
   ]
  }
 ],
 "metadata": {
  "kernelspec": {
   "display_name": "Python 3",
   "language": "python",
   "name": "python3"
  },
  "language_info": {
   "codemirror_mode": {
    "name": "ipython",
    "version": 3
   },
   "file_extension": ".py",
   "mimetype": "text/x-python",
   "name": "python",
   "nbconvert_exporter": "python",
   "pygments_lexer": "ipython3",
   "version": "3.8.3"
  }
 },
 "nbformat": 4,
 "nbformat_minor": 4
}
